{
 "cells": [
  {
   "cell_type": "markdown",
   "metadata": {},
   "source": [
    "# Preprocess"
   ]
  },
  {
   "cell_type": "markdown",
   "metadata": {},
   "source": [
    "Get data into the right format. Create datasets for the original data, synthetic data as well as combined together. Lastly also an original 2x"
   ]
  },
  {
   "cell_type": "code",
   "execution_count": 1,
   "metadata": {},
   "outputs": [],
   "source": [
    "import pandas as pd\n",
    "import numpy as np\n",
    "from pathlib import Path\n",
    "from sklearn.model_selection import train_test_split"
   ]
  },
  {
   "cell_type": "code",
   "execution_count": 2,
   "metadata": {},
   "outputs": [],
   "source": [
    "#model = 'transformer'\n",
    "model = 'gpt2'\n",
    "\n",
    "DATA = Path('data/')\n",
    "\n",
    "#SYNTHETIC_DATA=DATA/'t2t_experiments/full_context/output/transformer_decoded/tgt-test.001.txt'\n",
    "SYNTHETIC_DATA=DATA/'gpt2/test-output-text.txt'\n",
    "\n",
    "READMISSION_PREDICTION = DATA/'readmission_prediction/'\n",
    "READMISSION_PREDICTION.mkdir(exist_ok=True)"
   ]
  },
  {
   "cell_type": "code",
   "execution_count": 3,
   "metadata": {},
   "outputs": [],
   "source": [
    "data = pd.read_csv(DATA/'preprocessed/ref_test.tsv', sep='\\t') # only test file\n",
    "original = data[['text','30d_unplan_readmit']]\n",
    "\n",
    "with open(SYNTHETIC_DATA, 'r') as f:\n",
    "    synthetic = f.readlines()\n",
    "synthetic=pd.DataFrame({'text':synthetic})\n",
    "synthetic['30d_unplan_readmit'] = original['30d_unplan_readmit']"
   ]
  },
  {
   "cell_type": "code",
   "execution_count": 4,
   "metadata": {},
   "outputs": [
    {
     "name": "stdout",
     "output_type": "stream",
     "text": [
      "5727\n",
      "5727\n"
     ]
    }
   ],
   "source": [
    "print(len(synthetic))\n",
    "print(len(original))"
   ]
  },
  {
   "cell_type": "markdown",
   "metadata": {},
   "source": [
    "#### Stratified splitting"
   ]
  },
  {
   "cell_type": "markdown",
   "metadata": {},
   "source": [
    "The proportion of positive cases of readmittance is very low so we must ensure that they are equally represented in the training, validation and test splits"
   ]
  },
  {
   "cell_type": "code",
   "execution_count": 5,
   "metadata": {},
   "outputs": [],
   "source": [
    "original_train, original_val_test, y_train, y_test = train_test_split(original[['text']], original[['30d_unplan_readmit']],\n",
    "                                                    stratify=original[['30d_unplan_readmit']], \n",
    "                                                    test_size=0.2)\n",
    "\n",
    "original_train = pd.concat([original_train, y_train], axis=1)\n",
    "original_val_test = pd.concat([original_val_test, y_test], axis=1)\n",
    "original_train=original_train.reset_index(drop=True)"
   ]
  },
  {
   "cell_type": "code",
   "execution_count": 6,
   "metadata": {},
   "outputs": [],
   "source": [
    "val, test, y_val, y_test = train_test_split(original_val_test[['text']], original_val_test[['30d_unplan_readmit']],\n",
    "                                                    stratify=original_val_test[['30d_unplan_readmit']], \n",
    "                                                    test_size=0.5)\n",
    "\n",
    "val = pd.concat([val, y_val], axis=1)\n",
    "test = pd.concat([test, y_test], axis=1)"
   ]
  },
  {
   "cell_type": "code",
   "execution_count": 7,
   "metadata": {},
   "outputs": [
    {
     "data": {
      "text/plain": [
       "4581"
      ]
     },
     "execution_count": 7,
     "metadata": {},
     "output_type": "execute_result"
    }
   ],
   "source": [
    "excluded = list(original_val_test.index.values) \n",
    "synthetic_train = synthetic[~synthetic.index.isin(excluded)]\n",
    "len(synthetic_train)"
   ]
  },
  {
   "cell_type": "code",
   "execution_count": 8,
   "metadata": {},
   "outputs": [
    {
     "name": "stdout",
     "output_type": "stream",
     "text": [
      "4581 4581 573 573\n"
     ]
    }
   ],
   "source": [
    "print(len(original_train),len(synthetic_train),len(val),len(test))"
   ]
  },
  {
   "cell_type": "markdown",
   "metadata": {},
   "source": [
    "#### Upsampling"
   ]
  },
  {
   "cell_type": "markdown",
   "metadata": {},
   "source": [
    "The dataset is very imbalanced so we will upsample the positive samples. First the original:"
   ]
  },
  {
   "cell_type": "code",
   "execution_count": 9,
   "metadata": {},
   "outputs": [
    {
     "name": "stdout",
     "output_type": "stream",
     "text": [
      "582\n",
      "3999\n"
     ]
    }
   ],
   "source": [
    "positives = original_train[original_train['30d_unplan_readmit'] == 'Y']\n",
    "negatives = original_train[original_train['30d_unplan_readmit'] == 'N']\n",
    "print(len(positives))\n",
    "print(len(negatives))"
   ]
  },
  {
   "cell_type": "code",
   "execution_count": 10,
   "metadata": {},
   "outputs": [
    {
     "name": "stdout",
     "output_type": "stream",
     "text": [
      "loop\n",
      "loop\n",
      "loop\n",
      "loop\n",
      "loop\n",
      "loop\n",
      "3999\n",
      "3999\n"
     ]
    }
   ],
   "source": [
    "upsampled_positives=positives\n",
    "\n",
    "while len(upsampled_positives) < len(negatives):\n",
    "    for i, row in positives.iterrows():\n",
    "        upsampled_positives = upsampled_positives.append(\n",
    "                                {'text':row['text'],'30d_unplan_readmit': row['30d_unplan_readmit']}, ignore_index=True)\n",
    "        if (len(upsampled_positives) == len(negatives)):\n",
    "            break\n",
    "    print (\"loop\")\n",
    "    \n",
    "original_upsampled = upsampled_positives.append(negatives, ignore_index=True)\n",
    "print(len(original_upsampled[original_upsampled['30d_unplan_readmit'] == 'Y']))\n",
    "print(len(original_upsampled[original_upsampled['30d_unplan_readmit'] == 'N']))"
   ]
  },
  {
   "cell_type": "markdown",
   "metadata": {},
   "source": [
    "Then the synthetic:"
   ]
  },
  {
   "cell_type": "code",
   "execution_count": 11,
   "metadata": {},
   "outputs": [
    {
     "name": "stdout",
     "output_type": "stream",
     "text": [
      "582\n",
      "3999\n"
     ]
    }
   ],
   "source": [
    "positives = synthetic_train[synthetic_train['30d_unplan_readmit'] == 'Y']\n",
    "negatives = synthetic_train[synthetic_train['30d_unplan_readmit'] == 'N']\n",
    "print(len(positives))\n",
    "print(len(negatives))"
   ]
  },
  {
   "cell_type": "code",
   "execution_count": 12,
   "metadata": {},
   "outputs": [
    {
     "name": "stdout",
     "output_type": "stream",
     "text": [
      "loop\n",
      "loop\n",
      "loop\n",
      "loop\n",
      "loop\n",
      "loop\n",
      "3999\n",
      "3999\n"
     ]
    }
   ],
   "source": [
    "upsampled_positives=positives\n",
    "\n",
    "while len(upsampled_positives) < len(negatives):\n",
    "    for i, row in positives.iterrows():\n",
    "        upsampled_positives = upsampled_positives.append(\n",
    "                                {'text':row['text'],'30d_unplan_readmit': row['30d_unplan_readmit']}, ignore_index=True)\n",
    "        if (len(upsampled_positives) == len(negatives)):\n",
    "            break\n",
    "    print (\"loop\")\n",
    "    \n",
    "synthetic_upsampled = upsampled_positives.append(negatives, ignore_index=True)\n",
    "print(len(synthetic_upsampled[synthetic_upsampled['30d_unplan_readmit'] == 'Y']))\n",
    "print(len(synthetic_upsampled[synthetic_upsampled['30d_unplan_readmit'] == 'N']))"
   ]
  },
  {
   "cell_type": "markdown",
   "metadata": {},
   "source": [
    "Now we combine them in different combinations:"
   ]
  },
  {
   "cell_type": "code",
   "execution_count": 13,
   "metadata": {},
   "outputs": [],
   "source": [
    "combined = original_upsampled.append(synthetic_upsampled, ignore_index=True)\n",
    "original_2x = original_upsampled.append(original_upsampled, ignore_index=True)"
   ]
  },
  {
   "cell_type": "markdown",
   "metadata": {},
   "source": [
    "#### Final dataset split"
   ]
  },
  {
   "cell_type": "markdown",
   "metadata": {},
   "source": [
    "Split each dataset into train, test and eval and save to disk:"
   ]
  },
  {
   "cell_type": "markdown",
   "metadata": {},
   "source": [
    "We need to ensure that the validation and test sets have never been seen before by the training set"
   ]
  },
  {
   "cell_type": "code",
   "execution_count": 14,
   "metadata": {},
   "outputs": [],
   "source": [
    "ORIGINAL = READMISSION_PREDICTION/model/'original/'\n",
    "ORIGINAL_2X = READMISSION_PREDICTION/model/'original_2x/'\n",
    "SYNTHETIC = READMISSION_PREDICTION/model/'synthetic/'\n",
    "COMBINED = READMISSION_PREDICTION/model/'combined/'"
   ]
  },
  {
   "cell_type": "code",
   "execution_count": 15,
   "metadata": {},
   "outputs": [],
   "source": [
    "def split_dataset(train, directory):\n",
    "    \n",
    "    directory.mkdir(parents=True,exist_ok=True)\n",
    "    \n",
    "    print (len(train), len(val), len(test))\n",
    "    \n",
    "    train = train.sample(frac=1).reset_index(drop=True) # shuffle dataset\n",
    "    \n",
    "    train.to_csv(directory/'train.csv', sep=',', index = False)\n",
    "    val.to_csv(directory/'val.csv', sep=',', index = False)\n",
    "    test.to_csv(directory/'test.csv', sep=',', index = False)\n",
    "    \n",
    "    return"
   ]
  },
  {
   "cell_type": "markdown",
   "metadata": {},
   "source": [
    "Below we actually call the `split_dataset()` function for each of the datasets we want. If we have already run this notebook once, we can comment out `original` and `original_2x` because these will exactly the same for each model. Similarly we don't need to run the EDA section further down"
   ]
  },
  {
   "cell_type": "code",
   "execution_count": 16,
   "metadata": {},
   "outputs": [
    {
     "name": "stdout",
     "output_type": "stream",
     "text": [
      "7998 573 573\n",
      "15996 573 573\n"
     ]
    }
   ],
   "source": [
    "#split_dataset(original_upsampled, ORIGINAL)\n",
    "#split_dataset(original_2x, ORIGINAL_2X)\n",
    "split_dataset(synthetic_upsampled, SYNTHETIC)\n",
    "split_dataset(combined, COMBINED)"
   ]
  },
  {
   "cell_type": "markdown",
   "metadata": {},
   "source": [
    "### Output categories"
   ]
  },
  {
   "cell_type": "code",
   "execution_count": 17,
   "metadata": {},
   "outputs": [
    {
     "name": "stdout",
     "output_type": "stream",
     "text": [
      "['Y', 'N']\n"
     ]
    }
   ],
   "source": [
    "categories = list(set(original_train['30d_unplan_readmit'].values))\n",
    "categories.sort(reverse=True)\n",
    "print(categories)"
   ]
  },
  {
   "cell_type": "code",
   "execution_count": 18,
   "metadata": {},
   "outputs": [],
   "source": [
    "pd.DataFrame(categories).to_csv(READMISSION_PREDICTION/'labels.csv', sep=',', index = False,header=False)"
   ]
  },
  {
   "cell_type": "markdown",
   "metadata": {},
   "source": [
    "## EDA"
   ]
  },
  {
   "cell_type": "code",
   "execution_count": 15,
   "metadata": {},
   "outputs": [],
   "source": [
    "EDA = READMISSION_PREDICTION/model/'original_eda/'\n",
    "\n",
    "EDA.mkdir(parents=True,exist_ok=True)"
   ]
  },
  {
   "cell_type": "code",
   "execution_count": 16,
   "metadata": {},
   "outputs": [],
   "source": [
    "from eda import eda"
   ]
  },
  {
   "cell_type": "code",
   "execution_count": 17,
   "metadata": {},
   "outputs": [],
   "source": [
    "alpha = 0.1\n",
    "num_aug = 1 # number of augmented sentences per original sentence\n",
    "aug=[]\n",
    "\n",
    "for i in range(len(original_train)):\n",
    "    sentence = original_train['text'][i]\n",
    "    aug_sentences = eda.eda(sentence, alpha_sr=alpha, alpha_ri=alpha, alpha_rs=alpha, p_rd=alpha, num_aug=num_aug)\n",
    "    aug.append(aug_sentences)"
   ]
  },
  {
   "cell_type": "code",
   "execution_count": 18,
   "metadata": {},
   "outputs": [],
   "source": [
    "aug_text = pd.Series((v[0] for v in aug))\n",
    "original_eda = original_train\n",
    "original_eda['text']=aug_text"
   ]
  },
  {
   "cell_type": "code",
   "execution_count": 21,
   "metadata": {},
   "outputs": [
    {
     "name": "stdout",
     "output_type": "stream",
     "text": [
      "582\n",
      "3999\n"
     ]
    }
   ],
   "source": [
    "positives = original_eda[original_eda['30d_unplan_readmit'] == 'Y']\n",
    "negatives = original_eda[original_eda['30d_unplan_readmit'] == 'N']\n",
    "print(len(positives))\n",
    "print(len(negatives))"
   ]
  },
  {
   "cell_type": "code",
   "execution_count": 22,
   "metadata": {},
   "outputs": [
    {
     "name": "stdout",
     "output_type": "stream",
     "text": [
      "loop\n",
      "loop\n",
      "loop\n",
      "loop\n",
      "loop\n",
      "loop\n",
      "3999\n",
      "3999\n"
     ]
    }
   ],
   "source": [
    "upsampled_positives=positives\n",
    "\n",
    "while len(upsampled_positives) < len(negatives):\n",
    "    for i, row in positives.iterrows():\n",
    "        upsampled_positives = upsampled_positives.append(\n",
    "                                {'text':row['text'],'30d_unplan_readmit': row['30d_unplan_readmit']}, ignore_index=True)\n",
    "        if (len(upsampled_positives) == len(negatives)):\n",
    "            break\n",
    "    print (\"loop\")\n",
    "    \n",
    "original_eda = upsampled_positives.append(negatives, ignore_index=True)\n",
    "print(len(original_eda[original_eda['30d_unplan_readmit'] == 'Y']))\n",
    "print(len(original_eda[original_eda['30d_unplan_readmit'] == 'N']))"
   ]
  },
  {
   "cell_type": "code",
   "execution_count": 23,
   "metadata": {},
   "outputs": [],
   "source": [
    "eda = original_upsampled.append(original_eda, ignore_index=True)"
   ]
  },
  {
   "cell_type": "code",
   "execution_count": 24,
   "metadata": {},
   "outputs": [
    {
     "name": "stdout",
     "output_type": "stream",
     "text": [
      "15996 573 573\n"
     ]
    }
   ],
   "source": [
    "split_dataset(eda, EDA)"
   ]
  }
 ],
 "metadata": {
  "kernelspec": {
   "display_name": "Python [conda env:root] *",
   "language": "python",
   "name": "conda-root-py"
  },
  "language_info": {
   "codemirror_mode": {
    "name": "ipython",
    "version": 3
   },
   "file_extension": ".py",
   "mimetype": "text/x-python",
   "name": "python",
   "nbconvert_exporter": "python",
   "pygments_lexer": "ipython3",
   "version": "3.7.3"
  }
 },
 "nbformat": 4,
 "nbformat_minor": 2
}
