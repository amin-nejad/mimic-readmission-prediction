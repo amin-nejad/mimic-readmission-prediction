{
 "cells": [
  {
   "cell_type": "markdown",
   "metadata": {},
   "source": [
    "# Preprocess"
   ]
  },
  {
   "cell_type": "markdown",
   "metadata": {},
   "source": [
    "Get data into the right format. Create datasets for the original data, synthetic data as well as combined together. Lastly also an original 2x"
   ]
  },
  {
   "cell_type": "code",
   "execution_count": 10,
   "metadata": {},
   "outputs": [],
   "source": [
    "import pandas as pd\n",
    "import numpy as np\n",
    "from pathlib import Path"
   ]
  },
  {
   "cell_type": "code",
   "execution_count": 11,
   "metadata": {},
   "outputs": [],
   "source": [
    "DATA = Path('data/')\n",
    "READMISSION_PREDICTION = DATA/'readmission_prediction/'\n",
    "READMISSION_PREDICTION.mkdir(exist_ok=True)\n",
    "\n",
    "data = pd.read_csv(DATA/'preprocessed/ref_test.tsv', sep='\\t') # only test file\n",
    "original = data[['text','30d_unplan_readmit']]\n",
    "\n",
    "with open(DATA/'t2t_experiments/full_context/output/transformer_decoded/tgt-test.001.txt', 'r') as f:\n",
    "    synthetic = f.readlines()\n",
    "synthetic=pd.DataFrame({'text':synthetic})\n",
    "synthetic['30d_unplan_readmit'] = original['30d_unplan_readmit']"
   ]
  },
  {
   "cell_type": "code",
   "execution_count": 12,
   "metadata": {},
   "outputs": [
    {
     "name": "stdout",
     "output_type": "stream",
     "text": [
      "5727\n",
      "5727\n"
     ]
    }
   ],
   "source": [
    "print(len(synthetic))\n",
    "print(len(original))"
   ]
  },
  {
   "cell_type": "code",
   "execution_count": 13,
   "metadata": {},
   "outputs": [
    {
     "data": {
      "text/plain": [
       "4582"
      ]
     },
     "execution_count": 13,
     "metadata": {},
     "output_type": "execute_result"
    }
   ],
   "source": [
    "original_val_test=original.sample(frac=0.2, replace=False, random_state=1) # 80% train\n",
    "excluded = list(original_val_test.index.values) \n",
    "original_train = original[~original.index.isin(excluded)]\n",
    "len(original_train)"
   ]
  },
  {
   "cell_type": "code",
   "execution_count": 14,
   "metadata": {},
   "outputs": [
    {
     "data": {
      "text/plain": [
       "4582"
      ]
     },
     "execution_count": 14,
     "metadata": {},
     "output_type": "execute_result"
    }
   ],
   "source": [
    "synthetic_val_test=synthetic.sample(frac=0.2, replace=False, random_state=1) # 80% train\n",
    "excluded = list(synthetic_val_test.index.values) \n",
    "synthetic_train = synthetic[~synthetic.index.isin(excluded)]\n",
    "len(synthetic_train)"
   ]
  },
  {
   "cell_type": "code",
   "execution_count": 15,
   "metadata": {},
   "outputs": [],
   "source": [
    "combined = original_train.append(synthetic_train, ignore_index=True)\n",
    "original_2x = original_train.append(original_train, ignore_index=True)"
   ]
  },
  {
   "cell_type": "markdown",
   "metadata": {},
   "source": [
    "Split each dataset into train, test and eval and save to disk:"
   ]
  },
  {
   "cell_type": "markdown",
   "metadata": {},
   "source": [
    "We need to ensure that the validation and test sets have never been seen before by the training set"
   ]
  },
  {
   "cell_type": "code",
   "execution_count": 16,
   "metadata": {},
   "outputs": [],
   "source": [
    "model = 'transformer'\n",
    "\n",
    "ORIGINAL = READMISSION_PREDICTION/model/'original/'\n",
    "ORIGINAL_2X = READMISSION_PREDICTION/model/'original_2x/'\n",
    "SYNTHETIC = READMISSION_PREDICTION/model/'synthetic/'\n",
    "COMBINED = READMISSION_PREDICTION/model/'combined/'\n",
    "\n",
    "ORIGINAL.mkdir(parents=True,exist_ok=True)\n",
    "ORIGINAL_2X.mkdir(parents=True,exist_ok=True)\n",
    "SYNTHETIC.mkdir(parents=True,exist_ok=True)\n",
    "COMBINED.mkdir(parents=True,exist_ok=True)"
   ]
  },
  {
   "cell_type": "code",
   "execution_count": 17,
   "metadata": {},
   "outputs": [],
   "source": [
    "original_val_test = original_val_test.reset_index(drop=True)\n",
    "original_train = original_train.reset_index(drop=True)\n",
    "\n",
    "split_idx_test = int(0.5 * len(original_val_test)) # 10% val, 10% test\n",
    "\n",
    "val = original_val_test.loc[:split_idx_test]\n",
    "test = original_val_test[split_idx_test:]"
   ]
  },
  {
   "cell_type": "code",
   "execution_count": 18,
   "metadata": {},
   "outputs": [],
   "source": [
    "def split_dataset(train, directory):\n",
    "    \n",
    "    print (len(train), len(val), len(test))\n",
    "    \n",
    "    train.to_csv(directory/'train.csv', sep=',', index = False)\n",
    "    val.to_csv(directory/'val.csv', sep=',', index = False)\n",
    "    test.to_csv(directory/'test.csv', sep=',', index = False)\n",
    "    \n",
    "    return"
   ]
  },
  {
   "cell_type": "code",
   "execution_count": 19,
   "metadata": {},
   "outputs": [
    {
     "name": "stdout",
     "output_type": "stream",
     "text": [
      "4582 573 573\n",
      "9164 573 573\n",
      "4582 573 573\n",
      "9164 573 573\n"
     ]
    }
   ],
   "source": [
    "split_dataset(original_train, ORIGINAL)\n",
    "split_dataset(original_2x, ORIGINAL_2X)\n",
    "split_dataset(synthetic_train, SYNTHETIC)\n",
    "split_dataset(combined, COMBINED)"
   ]
  },
  {
   "cell_type": "markdown",
   "metadata": {},
   "source": [
    "### Output categories"
   ]
  },
  {
   "cell_type": "code",
   "execution_count": 23,
   "metadata": {},
   "outputs": [
    {
     "name": "stdout",
     "output_type": "stream",
     "text": [
      "['N', 'Y']\n"
     ]
    }
   ],
   "source": [
    "categories = list(set(original['30d_unplan_readmit'].values))\n",
    "print(categories)"
   ]
  },
  {
   "cell_type": "code",
   "execution_count": 24,
   "metadata": {},
   "outputs": [],
   "source": [
    "pd.DataFrame(categories).to_csv(READMISSION_PREDICTION/'labels.csv', sep=',', index = False,header=False)"
   ]
  },
  {
   "cell_type": "markdown",
   "metadata": {},
   "source": [
    "## EDA"
   ]
  },
  {
   "cell_type": "code",
   "execution_count": 25,
   "metadata": {},
   "outputs": [],
   "source": [
    "EDA = READMISSION_PREDICTION/model/'original_eda/'\n",
    "\n",
    "EDA.mkdir(parents=True,exist_ok=True)"
   ]
  },
  {
   "cell_type": "code",
   "execution_count": 26,
   "metadata": {},
   "outputs": [],
   "source": [
    "from eda import eda"
   ]
  },
  {
   "cell_type": "code",
   "execution_count": 27,
   "metadata": {},
   "outputs": [],
   "source": [
    "alpha = 0.1\n",
    "num_aug = 1 # number of augmented sentences per original sentence\n",
    "aug=[]\n",
    "\n",
    "for i in range(len(original_train)):\n",
    "    sentence = original_train['text'][i]\n",
    "    aug_sentences = eda.eda(sentence, alpha_sr=alpha, alpha_ri=alpha, alpha_rs=alpha, p_rd=alpha, num_aug=num_aug)\n",
    "    aug.append(aug_sentences)"
   ]
  },
  {
   "cell_type": "code",
   "execution_count": 28,
   "metadata": {},
   "outputs": [],
   "source": [
    "aug_text = pd.Series((v[0] for v in aug))\n",
    "original_eda = original_train\n",
    "original_eda['text']=aug_text"
   ]
  },
  {
   "cell_type": "code",
   "execution_count": 29,
   "metadata": {},
   "outputs": [],
   "source": [
    "eda = original_train.append(original_eda, ignore_index=True)"
   ]
  },
  {
   "cell_type": "code",
   "execution_count": 30,
   "metadata": {},
   "outputs": [
    {
     "name": "stdout",
     "output_type": "stream",
     "text": [
      "9164 573 573\n"
     ]
    }
   ],
   "source": [
    "split_dataset(eda, EDA)"
   ]
  }
 ],
 "metadata": {
  "kernelspec": {
   "display_name": "Python [conda env:root] *",
   "language": "python",
   "name": "conda-root-py"
  },
  "language_info": {
   "codemirror_mode": {
    "name": "ipython",
    "version": 3
   },
   "file_extension": ".py",
   "mimetype": "text/x-python",
   "name": "python",
   "nbconvert_exporter": "python",
   "pygments_lexer": "ipython3",
   "version": "3.7.3"
  }
 },
 "nbformat": 4,
 "nbformat_minor": 2
}
